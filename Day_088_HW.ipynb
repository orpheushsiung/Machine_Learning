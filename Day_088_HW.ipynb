{
 "cells": [
  {
   "cell_type": "markdown",
   "metadata": {},
   "source": [
    "## Work\n",
    "1. 請嘗試寫一個 callback 用來記錄各類別在訓練過程中，對驗證集的 True Positive 與 True Negative"
   ]
  },
  {
   "cell_type": "code",
   "execution_count": 1,
   "metadata": {},
   "outputs": [
    {
     "name": "stderr",
     "output_type": "stream",
     "text": [
      "Using TensorFlow backend.\n"
     ]
    }
   ],
   "source": [
    "import os\n",
    "import keras\n",
    "\n",
    "# Disable GPU\n",
    "os.environ[\"CUDA_VISIBLE_DEVICES\"] = \"\""
   ]
  },
  {
   "cell_type": "code",
   "execution_count": 2,
   "metadata": {},
   "outputs": [],
   "source": [
    "train, test = keras.datasets.cifar10.load_data()"
   ]
  },
  {
   "cell_type": "code",
   "execution_count": 3,
   "metadata": {},
   "outputs": [],
   "source": [
    "## 資料前處理\n",
    "def preproc_x(x, flatten=True):\n",
    "    x = x / 255.\n",
    "    if flatten:\n",
    "        x = x.reshape((len(x), -1))\n",
    "    return x\n",
    "\n",
    "def preproc_y(y, num_classes=10):\n",
    "    if y.shape[-1] == 1:\n",
    "        y = keras.utils.to_categorical(y, num_classes)\n",
    "    return y    "
   ]
  },
  {
   "cell_type": "code",
   "execution_count": 4,
   "metadata": {},
   "outputs": [],
   "source": [
    "x_train, y_train = train\n",
    "x_test, y_test = test\n",
    "\n",
    "# Preproc the inputs\n",
    "x_train = preproc_x(x_train)\n",
    "x_test = preproc_x(x_test)\n",
    "\n",
    "# Preprc the outputs\n",
    "y_train = preproc_y(y_train)\n",
    "y_test = preproc_y(y_test)"
   ]
  },
  {
   "cell_type": "code",
   "execution_count": 5,
   "metadata": {},
   "outputs": [],
   "source": [
    "from keras.layers import BatchNormalization\n",
    "def build_mlp(input_shape, output_units=10, num_neurons=[256, 256, 256]):\n",
    "    \"\"\"Code Here\n",
    "    建立你的神經網路\n",
    "    \"\"\"\n",
    "    input_layer = keras.layers.Input(input_shape)\n",
    "    \n",
    "    for i, n_units in enumerate(num_neurons):\n",
    "        if i == 0:\n",
    "            x = keras.layers.Dense(units=n_units, \n",
    "                                   activation=\"relu\", \n",
    "                                   name=\"hidden_layer\"+str(i+1))(input_layer)\n",
    "            x = BatchNormalization()(x)\n",
    "        else:\n",
    "            x = keras.layers.Dense(units=n_units, \n",
    "                                   activation=\"relu\", \n",
    "                                   name=\"hidden_layer\"+str(i+1))(x)\n",
    "            x = BatchNormalization()(x)\n",
    "    \n",
    "    out = keras.layers.Dense(units=output_units, activation=\"softmax\", name=\"output\")(x)\n",
    "    \n",
    "    model = keras.models.Model(inputs=[input_layer], outputs=[out])\n",
    "    return model"
   ]
  },
  {
   "cell_type": "code",
   "execution_count": 6,
   "metadata": {},
   "outputs": [],
   "source": [
    "## 超參數設定\n",
    "LEARNING_RATE = 1e-3\n",
    "EPOCHS = 25\n",
    "BATCH_SIZE = 1024\n",
    "MOMENTUM = 0.95"
   ]
  },
  {
   "cell_type": "code",
   "execution_count": 10,
   "metadata": {},
   "outputs": [],
   "source": [
    "# 載入 Callbacks\n",
    "from keras.callbacks import Callback\n",
    "from sklearn.metrics import confusion_matrix\n",
    "\n",
    "# Record_fp_tp\n",
    "class Record_tp_tn(Callback):\n",
    "    \"\"\"Code Here\n",
    "    撰寫一個紀錄 ture positive 與 true negative 數量的 callbacks    \n",
    "    \"\"\"\n",
    "    def on_train_begin(self, epoch, logs = {}):\n",
    "        logs = logs or {}\n",
    "        record_items = [\"val_tp\", \"val_tn\"]\n",
    "        for i in record_items:\n",
    "            if i not in self.params['metrics']:\n",
    "                self.params['metrics'].append(i)\n",
    "    \n",
    "    def on_epoch_end(self, epoch, logs = {}, thres=0.5):\n",
    "        logs = logs or {}\n",
    "        y_true = self.validation_data[1].argmax(axis = 1)\n",
    "        y_pred = self.model.predict(self.validation_data[0])\n",
    "        y_pred = (y_pred[:, 1] >= thres) * 1\n",
    "        \n",
    "        cm = confusion_matrix(y_true = y_true, y_pred = y_pred)\n",
    "        logs[\"val_tp\"] = cm[1][1]\n",
    "        logs[\"val_tn\"] = cm[0][0]\n",
    "\n",
    "rec_tptn = Record_tp_tn()"
   ]
  },
  {
   "cell_type": "code",
   "execution_count": 11,
   "metadata": {
    "scrolled": true
   },
   "outputs": [
    {
     "name": "stdout",
     "output_type": "stream",
     "text": [
      "Model: \"model_3\"\n",
      "_________________________________________________________________\n",
      "Layer (type)                 Output Shape              Param #   \n",
      "=================================================================\n",
      "input_3 (InputLayer)         (None, 3072)              0         \n",
      "_________________________________________________________________\n",
      "hidden_layer1 (Dense)        (None, 256)               786688    \n",
      "_________________________________________________________________\n",
      "batch_normalization_7 (Batch (None, 256)               1024      \n",
      "_________________________________________________________________\n",
      "hidden_layer2 (Dense)        (None, 256)               65792     \n",
      "_________________________________________________________________\n",
      "batch_normalization_8 (Batch (None, 256)               1024      \n",
      "_________________________________________________________________\n",
      "hidden_layer3 (Dense)        (None, 256)               65792     \n",
      "_________________________________________________________________\n",
      "batch_normalization_9 (Batch (None, 256)               1024      \n",
      "_________________________________________________________________\n",
      "output (Dense)               (None, 10)                2570      \n",
      "=================================================================\n",
      "Total params: 923,914\n",
      "Trainable params: 922,378\n",
      "Non-trainable params: 1,536\n",
      "_________________________________________________________________\n",
      "Train on 50000 samples, validate on 10000 samples\n",
      "Epoch 1/25\n",
      "50000/50000 [==============================] - 6s 123us/step - loss: 2.2100 - accuracy: 0.2687 - val_loss: 2.1858 - val_accuracy: 0.14602s - loss: 2.3487 - accu - ETA: 1s - loss: 2.2\n",
      "Epoch 2/25\n",
      "50000/50000 [==============================] - 5s 102us/step - loss: 1.7626 - accuracy: 0.3869 - val_loss: 2.0082 - val_accuracy: 0.2791 1.7715 - ac\n",
      "Epoch 3/25\n",
      "50000/50000 [==============================] - 5s 102us/step - loss: 1.6397 - accuracy: 0.4257 - val_loss: 1.8426 - val_accuracy: 0.3571\n",
      "Epoch 4/25\n",
      "50000/50000 [==============================] - 5s 98us/step - loss: 1.5672 - accuracy: 0.4522 - val_loss: 1.7287 - val_accuracy: 0.3973\n",
      "Epoch 5/25\n",
      "50000/50000 [==============================] - 5s 98us/step - loss: 1.5128 - accuracy: 0.4693 - val_loss: 1.6517 - val_accuracy: 0.4195\n",
      "Epoch 6/25\n",
      "50000/50000 [==============================] - 5s 99us/step - loss: 1.4693 - accuracy: 0.4840 - val_loss: 1.6005 - val_accuracy: 0.4373\n",
      "Epoch 7/25\n",
      "50000/50000 [==============================] - 5s 99us/step - loss: 1.4291 - accuracy: 0.4993 - val_loss: 1.5523 - val_accuracy: 0.4578\n",
      "Epoch 8/25\n",
      "50000/50000 [==============================] - 5s 100us/step - loss: 1.3956 - accuracy: 0.5111 - val_loss: 1.5315 - val_accuracy: 0.4603\n",
      "Epoch 9/25\n",
      "50000/50000 [==============================] - 5s 99us/step - loss: 1.3637 - accuracy: 0.5243 - val_loss: 1.5153 - val_accuracy: 0.4683\n",
      "Epoch 10/25\n",
      "50000/50000 [==============================] - 5s 101us/step - loss: 1.3366 - accuracy: 0.5322 - val_loss: 1.4988 - val_accuracy: 0.4682430 - ac - ETA: 2s - ETA: 1s - loss:\n",
      "Epoch 11/25\n",
      "50000/50000 [==============================] - 5s 99us/step - loss: 1.3091 - accuracy: 0.5446 - val_loss: 1.4906 - val_accuracy: 0.4781\n",
      "Epoch 12/25\n",
      "50000/50000 [==============================] - 5s 99us/step - loss: 1.2845 - accuracy: 0.5541 - val_loss: 1.4798 - val_accuracy: 0.47701.2839 - accuracy: 0.55 - ETA: 1s - loss: 1.2836 - accura - ETA: 0s - loss: 1.2841 - accu - ETA: 0s - loss: 1.2844 - accuracy: 0.55\n",
      "Epoch 13/25\n",
      "50000/50000 [==============================] - 5s 99us/step - loss: 1.2606 - accuracy: 0.5630 - val_loss: 1.4738 - val_accuracy: 0.4786\n",
      "Epoch 14/25\n",
      "50000/50000 [==============================] - 5s 99us/step - loss: 1.2395 - accuracy: 0.5710 - val_loss: 1.4733 - val_accuracy: 0.4824 0s - loss: 1.238\n",
      "Epoch 15/25\n",
      "50000/50000 [==============================] - 5s 99us/step - loss: 1.2187 - accuracy: 0.5779 - val_loss: 1.4714 - val_accuracy: 0.4810\n",
      "Epoch 16/25\n",
      "50000/50000 [==============================] - 5s 99us/step - loss: 1.1982 - accuracy: 0.5863 - val_loss: 1.4614 - val_accuracy: 0.4870: 1.1950 - accuracy: 0.58 - ETA: 1s - loss: 1.1949 - accuracy: 0.58 - ETA: 1s - loss: 1.1946  - ETA: 0s - loss: 1.1968 - accuracy:  - ETA: 0s - loss: 1.1961 - accuracy: \n",
      "Epoch 17/25\n",
      "50000/50000 [==============================] - 5s 97us/step - loss: 1.1781 - accuracy: 0.5935 - val_loss: 1.4564 - val_accuracy: 0.4848\n",
      "Epoch 18/25\n",
      "50000/50000 [==============================] - 5s 98us/step - loss: 1.1574 - accuracy: 0.6024 - val_loss: 1.4571 - val_accuracy: 0.4901\n",
      "Epoch 19/25\n",
      "50000/50000 [==============================] - 5s 98us/step - loss: 1.1392 - accuracy: 0.6082 - val_loss: 1.4495 - val_accuracy: 0.4884\n",
      "Epoch 20/25\n",
      "50000/50000 [==============================] - 5s 95us/step - loss: 1.1216 - accuracy: 0.6145 - val_loss: 1.4405 - val_accuracy: 0.4937- loss: 1.1200 - ac - ETA: 0s - loss: 1.1\n",
      "Epoch 21/25\n",
      "50000/50000 [==============================] - 5s 99us/step - loss: 1.1051 - accuracy: 0.6205 - val_loss: 1.4596 - val_accuracy: 0.4882y: 0.\n",
      "Epoch 22/25\n",
      "50000/50000 [==============================] - 5s 100us/step - loss: 1.0864 - accuracy: 0.6274 - val_loss: 1.4495 - val_accuracy: 0.4924os - ETA: 2s - loss: 1.0868 - accuracy:  - ETA: 2s - loss: 1 - ETA: 1s - loss: 1.0856 - accuracy: 0.62 - ETA: 0s - loss: 1.0\n",
      "Epoch 23/25\n",
      "50000/50000 [==============================] - 5s 99us/step - loss: 1.0693 - accuracy: 0.6333 - val_loss: 1.4388 - val_accuracy: 0.4993s - loss: 1.0689 - accuracy: 0.63\n",
      "Epoch 24/25\n",
      "50000/50000 [==============================] - 5s 102us/step - loss: 1.0525 - accuracy: 0.6397 - val_loss: 1.4421 - val_accuracy: 0.4939- accuracy: 0. - ETA: 2s - loss: 1.0 - ETA: 1s - loss: 1\n",
      "Epoch 25/25\n",
      "50000/50000 [==============================] - 5s 109us/step - loss: 1.0363 - accuracy: 0.6471 - val_loss: 1.4424 - val_accuracy: 0.4980\n"
     ]
    }
   ],
   "source": [
    "model = build_mlp(input_shape=x_train.shape[1:])\n",
    "model.summary()\n",
    "optimizer = keras.optimizers.SGD(lr=LEARNING_RATE, nesterov=True, momentum=MOMENTUM)\n",
    "model.compile(loss=\"categorical_crossentropy\", metrics=[\"accuracy\"], optimizer=optimizer)\n",
    "\n",
    "\"\"\"Code Here\n",
    "將 callbacks 放入模型訓練流程中\n",
    "\"\"\"\n",
    "model.fit(x_train, y_train, \n",
    "          epochs=EPOCHS, \n",
    "          batch_size=BATCH_SIZE, \n",
    "          validation_data=(x_test, y_test), \n",
    "          shuffle=True,\n",
    "          callbacks=[rec_tptn]\n",
    "         )\n",
    "\n",
    "# Collect results\n",
    "train_loss = model.history.history[\"loss\"]\n",
    "valid_loss = model.history.history[\"val_loss\"]\n",
    "train_acc = model.history.history[\"accuracy\"]\n",
    "valid_acc = model.history.history[\"val_accuracy\"]\n",
    "\n",
    "\"\"\"Code Here\n",
    "將 tp/tn 從訓練完的模型中取出\n",
    "\"\"\"\n",
    "valid_tp = model.history.history[\"val_tp\"]\n",
    "valid_tn = model.history.history[\"val_tn\"]"
   ]
  },
  {
   "cell_type": "code",
   "execution_count": 12,
   "metadata": {},
   "outputs": [
    {
     "data": {
      "image/png": "[encoded data removed]",
      "text/plain": [
       "<Figure size 432x288 with 1 Axes>"
      ]
     },
     "metadata": {
      "needs_background": "light"
     },
     "output_type": "display_data"
    },
    {
     "data": {
      "image/png": "[encoded data removed]",
      "text/plain": [
       "<Figure size 432x288 with 1 Axes>"
      ]
     },
     "metadata": {
      "needs_background": "light"
     },
     "output_type": "display_data"
    },
    {
     "data": {
      "image/png": "[encoded data removed]",
      "text/plain": [
       "<Figure size 432x288 with 1 Axes>"
      ]
     },
     "metadata": {
      "needs_background": "light"
     },
     "output_type": "display_data"
    }
   ],
   "source": [
    "import matplotlib.pyplot as plt\n",
    "%matplotlib inline\n",
    "\n",
    "plt.plot(range(len(train_loss)), train_loss, label=\"train loss\")\n",
    "plt.plot(range(len(valid_loss)), valid_loss, label=\"valid loss\")\n",
    "plt.legend()\n",
    "plt.title(\"Loss\")\n",
    "plt.show()\n",
    "\n",
    "plt.plot(range(len(train_acc)), train_acc, label=\"train accuracy\")\n",
    "plt.plot(range(len(valid_acc)), valid_acc, label=\"valid accuracy\")\n",
    "plt.legend()\n",
    "plt.title(\"Accuracy\")\n",
    "plt.show()\n",
    "\n",
    "plt.plot(range(len(valid_tp)), valid_tp, label=\"valid tp\", color=\"navy\")\n",
    "plt.plot(range(len(valid_tn)), valid_tn, label=\"valid tn\", color=\"red\")\n",
    "plt.legend()\n",
    "plt.title(\"True positives and True Negatives\")\n",
    "plt.show()\n"
   ]
  },
  {
   "cell_type": "code",
   "execution_count": null,
   "metadata": {},
   "outputs": [],
   "source": []
  }
 ],
 "metadata": {
  "kernelspec": {
   "display_name": "Python 3",
   "language": "python",
   "name": "python3"
  },
  "language_info": {
   "codemirror_mode": {
    "name": "ipython",
    "version": 3
   },
   "file_extension": ".py",
   "mimetype": "text/x-python",
   "name": "python",
   "nbconvert_exporter": "python",
   "pygments_lexer": "ipython3",
   "version": "3.7.8"
  }
 },
 "nbformat": 4,
 "nbformat_minor": 2
}
